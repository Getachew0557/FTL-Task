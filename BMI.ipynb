{
 "cells": [
  {
   "cell_type": "markdown",
   "metadata": {},
   "source": [
    "# Assignment: BMI Calculator and Health Assessment"
   ]
  },
  {
   "cell_type": "markdown",
   "metadata": {},
   "source": [
    "\n",
    "\n",
    "**Objective:**\n",
    "\n",
    "Build a Python program that calculates the Body Mass Index (BMI) of a user and provides a health assessment based on their BMI value.\n",
    "\n",
    "**Background Context:**\n",
    "BMI is a measure used to determine whether a person has a healthy body weight for a person of their height. It is calculated using the following formula:\n",
    "\n",
    "$$ \\text{BMI} = \\frac{\\text{weight in kilograms}}{\\text{height in meters}^2} $$\n",
    "\n",
    "\n",
    "The BMI categories are:\n",
    "\n",
    "* Underweight: BMI is less than 18.5\n",
    "* Normal weight: BMI is 18.5 to 24.9\n",
    "* Overweight: BMI is 25 to 29.9\n",
    "* Obesity: BMI is 30 or greater\n",
    "\n",
    "**Tasks:**\n",
    "\n",
    "**User Input:**\n",
    "\n",
    "* Prompt the user to input their weight in kilograms (float).\n",
    "* Prompt the user to input their height in meters (float).\n",
    "\n",
    "\n",
    "**Calculate BMI:**\n",
    "\n",
    "Using the formula provided, calculate the BMI. Store it in a variable named bmi.\n",
    "\n",
    "**Provide Health Assessment:**\n",
    "\n",
    "Using conditional statements (if, elif, and else), determine which BMI category the user falls into.\n",
    "Print out the user's BMI and the corresponding health assessment.\n",
    "\n",
    "**Error Handling:**\n",
    "\n",
    "Ensure the user cannot enter a negative or zero value for height or weight. If they do, provide an error message and prompt them to enter the value again.\n"
   ]
  },
  {
   "cell_type": "markdown",
   "metadata": {},
   "source": [
    "**Expected Output:**\n",
    "\n",
    "\n",
    "Enter your weight in kilograms: 70\n",
    "Enter your height in meters: 1.75\n",
    "\n",
    "Your BMI is 22.86. You have a Normal weight."
   ]
  },
  {
   "cell_type": "code",
   "execution_count": 1,
   "metadata": {},
   "outputs": [],
   "source": [
    "#Solution\n",
    "\n",
    "def bmi_calculator(weight, height):\n",
    "    bmi = weight / (height ** 2)\n",
    "    return bmi"
   ]
  },
  {
   "cell_type": "code",
   "execution_count": null,
   "metadata": {},
   "outputs": [
    {
     "name": "stdout",
     "output_type": "stream",
     "text": [
      "Weight and height must be positive numbers.\n",
      "Please enter valid positive numbers for weight and height.\n",
      "Your BMI is: {bmi}. You are underweight.\n"
     ]
    }
   ],
   "source": [
    "while True:\n",
    "    try:\n",
    "        weight = float(input(\"Enter your weight in kg: \"))\n",
    "        height = float(input(\"Enter your height in meters: \"))\n",
    "        if weight <= 0 or height <= 0:\n",
    "            raise ValueError(\"Weight and height must be positive numbers.\")\n",
    "        break\n",
    "    except ValueError as e:\n",
    "        print(e)\n",
    "        print(\"Please enter valid positive numbers for weight and height.\")\n",
    "        \n",
    "bmi = bmi_calculator(weight, height)\n",
    "if bmi < 18.5:\n",
    "    print(\"Your BMI is: {bmi}. You are underweight.\")\n",
    "elif bmi < 25:\n",
    "    print(\"Your BMI is: {bmi}. Your weight is normal.\")\n",
    "elif bmi < 30:\n",
    "    print(\"Your BMI is: {bmi}. You are overweight.\")\n",
    "else:\n",
    "    print(\"Your BMI is: {bmi}. You are obese.\")"
   ]
  },
  {
   "cell_type": "code",
   "execution_count": null,
   "metadata": {},
   "outputs": [
    {
     "name": "stdout",
     "output_type": "stream",
     "text": [
      "Your BMI is: {bmi}. You are underweight.\n"
     ]
    }
   ],
   "source": []
  },
  {
   "cell_type": "code",
   "execution_count": null,
   "metadata": {},
   "outputs": [],
   "source": []
  }
 ],
 "metadata": {
  "kernelspec": {
   "display_name": "base",
   "language": "python",
   "name": "python3"
  },
  "language_info": {
   "codemirror_mode": {
    "name": "ipython",
    "version": 3
   },
   "file_extension": ".py",
   "mimetype": "text/x-python",
   "name": "python",
   "nbconvert_exporter": "python",
   "pygments_lexer": "ipython3",
   "version": "3.12.3"
  }
 },
 "nbformat": 4,
 "nbformat_minor": 2
}
